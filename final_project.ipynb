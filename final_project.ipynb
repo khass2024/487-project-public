{
  "cells": [
    {
      "cell_type": "code",
      "execution_count": 1,
      "metadata": {
        "id": "OR9P16aiPhVm"
      },
      "outputs": [
        {
          "name": "stderr",
          "output_type": "stream",
          "text": [
            "[nltk_data] Downloading package wordnet to\n",
            "[nltk_data]     /Users/kevinhass/nltk_data...\n",
            "[nltk_data]   Package wordnet is already up-to-date!\n"
          ]
        }
      ],
      "source": [
        "import pickle\n",
        "\n",
        "import gensim.downloader\n",
        "import numpy as np\n",
        "import pandas as pd\n",
        "import nltk\n",
        "nltk.download('wordnet')\n",
        "from nltk.corpus import wordnet as wn"
      ]
    },
    {
      "cell_type": "code",
      "execution_count": 2,
      "metadata": {
        "id": "lII2seuOPhVn"
      },
      "outputs": [],
      "source": [
        "embed = gensim.downloader.load(\"glove-wiki-gigaword-200\")"
      ]
    },
    {
      "cell_type": "code",
      "execution_count": 3,
      "metadata": {
        "id": "M5Rto3xYPhVo"
      },
      "outputs": [],
      "source": [
        "def get_glove_embedding(word):\n",
        "    return embed[word]"
      ]
    },
    {
      "cell_type": "code",
      "execution_count": 4,
      "metadata": {
        "id": "T71nPv8bPhVo"
      },
      "outputs": [],
      "source": [
        "def get_similarity(v1, v2):\n",
        "    numerator = np.dot(v1, v2)\n",
        "    denominator = np.linalg.norm(v1) * np.linalg.norm(v2)\n",
        "    similarity = numerator / denominator\n",
        "    return similarity"
      ]
    },
    {
      "cell_type": "code",
      "execution_count": 5,
      "metadata": {},
      "outputs": [],
      "source": [
        "def find_glove_similar_word(answer, guess, num):\n",
        "    res = embed.closer_than(answer, guess)\n",
        "    if res:\n",
        "        most_similar_key = res[int(len(res)/2)]\n",
        "        return(True, most_similar_key)\n",
        "    else:\n",
        "        return(False, \"N/A\")"
      ]
    },
    {
      "cell_type": "code",
      "execution_count": 6,
      "metadata": {
        "id": "7XFOPdB0PhVo"
      },
      "outputs": [],
      "source": [
        "from openai import OpenAI\n",
        "client = OpenAI(\n",
        "    api_key=\"\"\n",
        ")\n",
        "\n",
        "def get_GPT_embedding(word):\n",
        "    response = client.embeddings.create(\n",
        "        input=word,\n",
        "        model=\"text-embedding-ada-002\"\n",
        "    )\n",
        "    return response.data[0].embedding"
      ]
    },
    {
      "cell_type": "code",
      "execution_count": 7,
      "metadata": {},
      "outputs": [],
      "source": [
        "def preprocess(input):\n",
        "    return input.strip().lower()"
      ]
    },
    {
      "cell_type": "code",
      "execution_count": 8,
      "metadata": {},
      "outputs": [],
      "source": [
        "import random\n",
        "def secret_word_engine():\n",
        "    while(True):\n",
        "        category = input(\"Choose a category from: 1. actions, 2. adjectives, 3. food, 4. intangible objects, 5. fantasy\")\n",
        "        match category:\n",
        "            case \"1\":\n",
        "                return random.choice([\"tokens\", \"embeddings\", \"model\", \"transformers\"]) #NLP\n",
        "            case \"2\":\n",
        "                return random.choice([\"exam\", \"pencil\", \"book\", \"friends\"]) #school\n",
        "            case \"3\":\n",
        "                return random.choice([\"cake\", \"chocolate\", \"pie\", \"bread\"]) #food\n",
        "            case \"4\":\n",
        "                return random.choice([\"teacher\", \"engineer\", \"driver\", \"soldier\"]) #careers\n",
        "            case \"5\":\n",
        "                return random.choice([\"tennis\", \"football\", \"skiing\", \"basketball\"]) #sports\n",
        "            #for user testing\n",
        "            case \"6\":\n",
        "                return \"cake\"\n",
        "            case \"7\":\n",
        "                return \"book\"\n",
        "            case \"8\":\n",
        "                return \"basketball\"\n",
        "            case _:\n",
        "                print(\"Enter a valid number for the category\")"
      ]
    },
    {
      "cell_type": "code",
      "execution_count": 9,
      "metadata": {},
      "outputs": [],
      "source": [
        "def find_hypernyms(word, guess, num):\n",
        "    # Get all synsets for the word\n",
        "    synsets = wn.synsets(word)\n",
        "\n",
        "    # List to hold all hyponyms\n",
        "    hypernyms = []\n",
        "\n",
        "    # Iterate through each synset\n",
        "    for synset in synsets:\n",
        "        # Get hyponyms for each synset\n",
        "        for hypernym in synset.hypernyms():\n",
        "            # Add the lemma names (words) of each hyponym to the set\n",
        "            for h in hypernym.hypernyms():\n",
        "                hypernyms = hypernyms + h.lemma_names()\n",
        "    words = []\n",
        "    similarityies = []\n",
        "    for hypernym in hypernyms:\n",
        "        if(hypernym in words):\n",
        "            continue\n",
        "        try:\n",
        "            sim = get_similarity(get_glove_embedding(hypernym), get_glove_embedding(word))\n",
        "            words.append(hypernym)\n",
        "            similarityies.append(sim)\n",
        "        except:\n",
        "            pass    \n",
        "    sorted = np.argsort(similarityies)\n",
        "    word_sims = []\n",
        "    for idx in sorted:\n",
        "        word_sims.append((words[idx], similarityies[idx]))\n",
        "    for hypernym, sim in word_sims:\n",
        "        if(sim > num):\n",
        "            return (True, hypernym)\n",
        "    return (False, \"N/A\")"
      ]
    },
    {
      "cell_type": "code",
      "execution_count": 10,
      "metadata": {},
      "outputs": [],
      "source": [
        "def get_scale(similarity, mode):\n",
        "    if mode: #True is glove\n",
        "        if similarity > 0.60:\n",
        "            return \"hot\"\n",
        "        if similarity > 0.40:\n",
        "            return \"warm\"\n",
        "        else:\n",
        "            return \"cold\"\n",
        "    else:\n",
        "        if similarity > 0.90:\n",
        "            return \"hot\"\n",
        "        if similarity > 0.85:\n",
        "            return \"warm\"\n",
        "        else:\n",
        "            return \"cold\""
      ]
    },
    {
      "cell_type": "code",
      "execution_count": 11,
      "metadata": {
        "id": "Mnrv1WA-PhVp"
      },
      "outputs": [],
      "source": [
        "class Game():\n",
        "    def __init__(self, get_embedding, hint_function):\n",
        "        self.secret_word = \"\"\n",
        "        self.get_embedding = get_embedding\n",
        "        self.get_middle = hint_function\n",
        "        self.guesses = 0\n",
        "        self.best_sim = 0\n",
        "        self.best_guess = \"N/A\"\n",
        "        self.total_guesses = 0\n",
        "    def run_game(self):\n",
        "        print(\"This is Semantle\")\n",
        "        if self.get_embedding == get_GPT_embedding:\n",
        "            print(\"Playing with GPT embeddings\")\n",
        "        else:\n",
        "            print(\"Playing with gloVe\")\n",
        "        if self.get_middle == find_glove_similar_word:\n",
        "            print(\"Playing with Halfway Word hints\")\n",
        "        elif self.get_middle == find_hypernyms:\n",
        "            print(\"Playing with Hypernym hints\")\n",
        "        else:\n",
        "            print(\"No hints!\")\n",
        "        print(\"Please guess the secret word.\")\n",
        "        print(\"Type 'give up' to end the game\")\n",
        "        self.secret_word = secret_word_engine()\n",
        "        user_input = preprocess(input(\"Guess the secret word: \"))\n",
        "        while user_input != self.secret_word:\n",
        "            self.total_guesses += 1\n",
        "            try:\n",
        "                if user_input == \"give up\":\n",
        "                    print(\"The secret word was\", self.secret_word)\n",
        "                    return\n",
        "                similarity = get_similarity(self.get_embedding(user_input), self.get_embedding(self.secret_word))\n",
        "                scale = get_scale(similarity, self.get_embedding == get_glove_embedding)\n",
        "                print(f\"Similarity between {user_input} and the secret word is {similarity}, the guess is {scale}\")\n",
        "                if(similarity <= self.best_sim):\n",
        "                    self.guesses += 1\n",
        "                else:\n",
        "                    self.guesses = 0\n",
        "                    self.best_sim = similarity\n",
        "                    self.best_guess = user_input\n",
        "                if self.guesses >= 3 and self.get_middle != None:\n",
        "                    self.guesses = 0\n",
        "                    middle_word = self.get_middle(self.secret_word, self.best_guess, self.best_sim)\n",
        "                    if(middle_word[0] == True):\n",
        "                        similarity = get_similarity(self.get_embedding(middle_word[1]), self.get_embedding(self.secret_word))\n",
        "                        scale = get_scale(similarity, self.get_embedding == get_glove_embedding)\n",
        "                        if self.get_middle == find_glove_similar_word:\n",
        "                            print(\"Seems like you are stuck, Here is a hint:\", middle_word[1], \"has the similarity of\", similarity, \"the hint word is\", scale)\n",
        "                        else:\n",
        "                            print(\"Seems like you are stuck, Here is a hint:\", middle_word[1], \"is a hypernym of the target word.\")\n",
        "                            print(\"The hypernym has the similarity of\", similarity, \"the hint word is\", scale)\n",
        "                        if similarity > self.best_sim:\n",
        "                                self.best_sim = similarity\n",
        "                                self.best_guess = middle_word[1]\n",
        "                    else:\n",
        "                        print(\"You are close keep trying!\")\n",
        "\n",
        "            except:\n",
        "                print(\"Sorry, try again.\")\n",
        "            user_input = preprocess(input(\"Guess the secret word: \"))\n",
        "        print(f\"Congratulations, you won! The secret word is {self.secret_word} in {self.total_guesses}.\")"
      ]
    },
    {
      "cell_type": "code",
      "execution_count": 12,
      "metadata": {},
      "outputs": [
        {
          "name": "stdout",
          "output_type": "stream",
          "text": [
            "Test 1: select category 6; category is food\n",
            "This is Semantle\n",
            "Playing with gloVe\n",
            "No hints!\n",
            "Please guess the secret word.\n",
            "Type 'give up' to end the game\n",
            "Similarity between apple and the secret word is 0.3577006757259369, the guess is cold\n",
            "Similarity between pie and the secret word is 0.6400020122528076, the guess is hot\n",
            "Congratulations, you won! The secret word is cake in 2.\n"
          ]
        }
      ],
      "source": [
        "#testing suite 1\n",
        "#category 6 food\n",
        "print(\"Test 1: select category 6; category is food\")\n",
        "game1 = Game(get_glove_embedding, None)\n",
        "game1.run_game()"
      ]
    },
    {
      "cell_type": "code",
      "execution_count": 38,
      "metadata": {},
      "outputs": [
        {
          "name": "stdout",
          "output_type": "stream",
          "text": [
            "Test 2: select category 7; category is school\n",
            "This is Semantle\n",
            "Playing with gloVe\n",
            "Playing with Hypernym hints\n",
            "Please guess the secret word.\n",
            "Type 'give up' to end the game\n",
            "Enter a valid number for the category\n",
            "Similarity between college and the secret word is 0.3382933437824249, the guess is cold\n",
            "Sorry, try again.\n",
            "Similarity between university and the secret word is 0.3421485424041748, the guess is cold\n",
            "Similarity between michigan and the secret word is 0.17000946402549744, the guess is cold\n",
            "Similarity between secondary and the secret word is 0.13766200840473175, the guess is cold\n",
            "Similarity between mascot and the secret word is 0.08379468321800232, the guess is cold\n",
            "Seems like you are stuck, Here is a hint: plan is a hypernym of the target word.\n",
            "The hypernym has the similarity of 0.34325147 the hint word is cold\n",
            "Similarity between degree and the secret word is 0.19853974878787994, the guess is cold\n",
            "Similarity between graduation and the secret word is 0.19120211899280548, the guess is cold\n",
            "Similarity between schedule and the secret word is 0.2554495930671692, the guess is cold\n",
            "Seems like you are stuck, Here is a hint: record is a hypernym of the target word.\n",
            "The hypernym has the similarity of 0.36267084 the hint word is cold\n",
            "Similarity between transcript and the secret word is 0.24932539463043213, the guess is cold\n",
            "Similarity between academic and the secret word is 0.3590063452720642, the guess is cold\n",
            "Similarity between syllabus and the secret word is 0.11438608914613724, the guess is cold\n",
            "Seems like you are stuck, Here is a hint: music is a hypernym of the target word.\n",
            "The hypernym has the similarity of 0.40076122 the hint word is warm\n",
            "Similarity between syllabus and the secret word is 0.11438608914613724, the guess is cold\n",
            "Similarity between paper and the secret word is 0.5597691535949707, the guess is warm\n",
            "Similarity between diploma and the secret word is 0.1107172816991806, the guess is cold\n",
            "Similarity between score and the secret word is 0.2715778946876526, the guess is cold\n",
            "Similarity between calendar and the secret word is 0.2963925302028656, the guess is cold\n",
            "Seems like you are stuck, Here is a hint: writing is a hypernym of the target word.\n",
            "The hypernym has the similarity of 0.66543245 the hint word is hot\n",
            "Similarity between thesis and the secret word is 0.39501678943634033, the guess is cold\n",
            "Similarity between thesis and the secret word is 0.39501678943634033, the guess is cold\n",
            "Sorry, try again.\n",
            "Similarity between composition and the secret word is 0.26645854115486145, the guess is cold\n",
            "You are close keep trying!\n",
            "The secret word was book\n"
          ]
        }
      ],
      "source": [
        "#category 7 school\n",
        "print(\"Test 2: select category 7; category is school\")\n",
        "game2 = Game(get_glove_embedding, find_hypernyms)\n",
        "game2.run_game()"
      ]
    },
    {
      "cell_type": "code",
      "execution_count": 39,
      "metadata": {},
      "outputs": [
        {
          "name": "stdout",
          "output_type": "stream",
          "text": [
            "Test 3: select category 8; category is sports\n",
            "This is Semantle\n",
            "Playing with gloVe\n",
            "No hints!\n",
            "Please guess the secret word.\n",
            "Type 'give up' to end the game\n",
            "Similarity between score and the secret word is 0.2490340769290924, the guess is cold\n",
            "Similarity between football and the secret word is 0.7896140217781067, the guess is hot\n",
            "Similarity between soccer and the secret word is 0.7371647357940674, the guess is hot\n",
            "Similarity between rugby and the secret word is 0.4955540895462036, the guess is warm\n",
            "Similarity between goal and the secret word is 0.24878603219985962, the guess is cold\n",
            "You are close keep trying!\n",
            "Similarity between kicker and the secret word is 0.2383928894996643, the guess is cold\n",
            "Similarity between tackle and the secret word is 0.2258613407611847, the guess is cold\n",
            "Similarity between golf and the secret word is 0.4847441017627716, the guess is warm\n",
            "You are close keep trying!\n",
            "Similarity between ball and the secret word is 0.3575161099433899, the guess is cold\n",
            "Similarity between contact and the secret word is 0.1335035115480423, the guess is cold\n",
            "Similarity between pass and the secret word is 0.1541413515806198, the guess is cold\n",
            "You are close keep trying!\n",
            "Congratulations, you won! The secret word is basketball in 11.\n"
          ]
        }
      ],
      "source": [
        "#category 8 sport\n",
        "print(\"Test 3: select category 8; category is sports\")\n",
        "game3 = Game(get_glove_embedding, find_glove_similar_word)\n",
        "game3.run_game()"
      ]
    }
  ],
  "metadata": {
    "colab": {
      "provenance": []
    },
    "kernelspec": {
      "display_name": "base",
      "language": "python",
      "name": "python3"
    },
    "language_info": {
      "codemirror_mode": {
        "name": "ipython",
        "version": 3
      },
      "file_extension": ".py",
      "mimetype": "text/x-python",
      "name": "python",
      "nbconvert_exporter": "python",
      "pygments_lexer": "ipython3",
      "version": "3.10.1"
    }
  },
  "nbformat": 4,
  "nbformat_minor": 0
}
